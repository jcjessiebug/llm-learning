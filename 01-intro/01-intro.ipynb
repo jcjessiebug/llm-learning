{
 "cells": [
  {
   "cell_type": "code",
   "execution_count": 1,
   "id": "3a22d09d-6883-4007-8cc9-7f0ae88b5207",
   "metadata": {},
   "outputs": [],
   "source": [
    "import openai"
   ]
  },
  {
   "cell_type": "code",
   "execution_count": 6,
   "id": "37bae799-c898-460b-8520-187d4003279c",
   "metadata": {},
   "outputs": [],
   "source": [
    "from openai import OpenAI"
   ]
  },
  {
   "cell_type": "code",
   "execution_count": 2,
   "id": "e2919ca4-a755-466f-a9e3-58f070648b7c",
   "metadata": {},
   "outputs": [],
   "source": [
    "import os"
   ]
  },
  {
   "cell_type": "code",
   "execution_count": 4,
   "id": "f0a7c98a-81f2-4875-9840-89ad9b7cd876",
   "metadata": {},
   "outputs": [],
   "source": [
    "gemini_key = os.getenv('GEMINI_API_KEY') "
   ]
  },
  {
   "cell_type": "code",
   "execution_count": 7,
   "id": "edcaf0be-8eec-477b-b6d5-543f77b4a7ee",
   "metadata": {},
   "outputs": [],
   "source": [
    "client = OpenAI(\n",
    "    api_key = gemini_key,\n",
    "    base_url=\"https://generativelanguage.googleapis.com/v1beta/openai/\"\n",
    ")"
   ]
  },
  {
   "cell_type": "code",
   "execution_count": 8,
   "id": "0181e5ff-5127-49cf-8722-7e710f52b606",
   "metadata": {},
   "outputs": [],
   "source": [
    "messages = [\n",
    "    {\"role\": \"system\", \"content\": \"You are a helpful assistant\"},\n",
    "    {\"role\": \"user\", \"content\": \"is it too late to join the course?\"}\n",
    "]\n",
    "    "
   ]
  },
  {
   "cell_type": "code",
   "execution_count": 9,
   "id": "9fd834a4-f8e1-484e-a087-8d5a616f738d",
   "metadata": {},
   "outputs": [],
   "source": [
    "response = client.chat.completions.create(\n",
    "    model = \"gemini-2.0-flash\",\n",
    "    messages=messages\n",
    ")"
   ]
  },
  {
   "cell_type": "code",
   "execution_count": 10,
   "id": "1537b100-32d0-4fe1-b38f-b499e77cedf6",
   "metadata": {},
   "outputs": [
    {
     "data": {
      "text/plain": [
       "ChatCompletion(id='fXs-aJXQD-S4qsMPxofMuQM', choices=[Choice(finish_reason='stop', index=0, logprobs=None, message=ChatCompletionMessage(content=\"Whether or not it's too late to join a course depends on several factors, including:\\n\\n*   **The course's start date:** If the course has already started, find out how long ago it began.\\n*   **The course's structure:** Is it self-paced, or does it have live sessions?\\n*   **The instructor's or institution's policy:** Some courses have strict deadlines for enrollment.\\n*   **Your ability to catch up:** Can you realistically catch up on missed material?\\n\\nTo figure out if it's too late, I need some more information:\\n\\n1.  **What course are you interested in joining?** Please provide the name of the course and, if possible, the institution or platform offering it (e.g., Coursera, Udemy, a specific university).\\n2.  **Do you know when the course started?**\\n3.  **Is there a listed deadline for enrollment?**\\n\\nOnce I have this information, I can give you a much more accurate answer.\\n\", refusal=None, role='assistant', annotations=None, audio=None, function_call=None, tool_calls=None))], created=1748925310, model='gemini-2.0-flash', object='chat.completion', service_tier=None, system_fingerprint=None, usage=CompletionUsage(completion_tokens=218, prompt_tokens=14, total_tokens=232, completion_tokens_details=None, prompt_tokens_details=None))"
      ]
     },
     "execution_count": 10,
     "metadata": {},
     "output_type": "execute_result"
    }
   ],
   "source": [
    "response"
   ]
  },
  {
   "cell_type": "code",
   "execution_count": 12,
   "id": "b7bd021d-c4c8-40ab-b371-dfbf3b6c252f",
   "metadata": {},
   "outputs": [
    {
     "data": {
      "text/plain": [
       "\"Whether or not it's too late to join a course depends on several factors, including:\\n\\n*   **The course's start date:** If the course has already started, find out how long ago it began.\\n*   **The course's structure:** Is it self-paced, or does it have live sessions?\\n*   **The instructor's or institution's policy:** Some courses have strict deadlines for enrollment.\\n*   **Your ability to catch up:** Can you realistically catch up on missed material?\\n\\nTo figure out if it's too late, I need some more information:\\n\\n1.  **What course are you interested in joining?** Please provide the name of the course and, if possible, the institution or platform offering it (e.g., Coursera, Udemy, a specific university).\\n2.  **Do you know when the course started?**\\n3.  **Is there a listed deadline for enrollment?**\\n\\nOnce I have this information, I can give you a much more accurate answer.\\n\""
      ]
     },
     "execution_count": 12,
     "metadata": {},
     "output_type": "execute_result"
    }
   ],
   "source": [
    "response.choices[0].message.content"
   ]
  },
  {
   "cell_type": "code",
   "execution_count": null,
   "id": "87447b01-d100-4873-8412-aeda4899b84e",
   "metadata": {},
   "outputs": [],
   "source": []
  }
 ],
 "metadata": {
  "kernelspec": {
   "display_name": "Python 3 (ipykernel)",
   "language": "python",
   "name": "python3"
  },
  "language_info": {
   "codemirror_mode": {
    "name": "ipython",
    "version": 3
   },
   "file_extension": ".py",
   "mimetype": "text/x-python",
   "name": "python",
   "nbconvert_exporter": "python",
   "pygments_lexer": "ipython3",
   "version": "3.12.1"
  }
 },
 "nbformat": 4,
 "nbformat_minor": 5
}
